{
 "cells": [
  {
   "cell_type": "code",
   "execution_count": 18,
   "metadata": {
    "scrolled": false
   },
   "outputs": [],
   "source": [
    "import pandas as pd\n",
    "filename = '68449_食品成分資料庫2019版(節錄整理).xlsx'\n",
    "sheetname = '台灣食品成分表'\n",
    "\n",
    "db = pd.read_excel(filename,sheet_name=sheetname,skiprows=[0]).dropna(how='all')\n"
   ]
  },
  {
   "cell_type": "code",
   "execution_count": 20,
   "metadata": {},
   "outputs": [],
   "source": [
    "html = db.to_html(index=False,na_rep=\"\")\n",
    "html.encode(\"utf8\").decode(\"cp950\", \"ignore\")\n",
    "text_file = open(\"gredient.html\", \"w\",encoding=\"utf-8\") \n",
    "text_file.write(html)\n",
    "text_file.close() "
   ]
  }
 ],
 "metadata": {
  "kernelspec": {
   "display_name": "Python 3",
   "language": "python",
   "name": "python3"
  },
  "language_info": {
   "codemirror_mode": {
    "name": "ipython",
    "version": 3
   },
   "file_extension": ".py",
   "mimetype": "text/x-python",
   "name": "python",
   "nbconvert_exporter": "python",
   "pygments_lexer": "ipython3",
   "version": "3.7.3"
  }
 },
 "nbformat": 4,
 "nbformat_minor": 2
}
